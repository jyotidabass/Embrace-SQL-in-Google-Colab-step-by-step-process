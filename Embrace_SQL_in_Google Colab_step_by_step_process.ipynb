{
  "nbformat": 4,
  "nbformat_minor": 0,
  "metadata": {
    "colab": {
      "provenance": [],
      "authorship_tag": "ABX9TyPCfP4Y+JlHVTrI8kISvFWm",
      "include_colab_link": true
    },
    "kernelspec": {
      "name": "python3",
      "display_name": "Python 3"
    },
    "language_info": {
      "name": "python"
    }
  },
  "cells": [
    {
      "cell_type": "markdown",
      "metadata": {
        "id": "view-in-github",
        "colab_type": "text"
      },
      "source": [
        "<a href=\"https://colab.research.google.com/github/jyotidabass/Embrace-SQL-in-Google-Colab-step-by-step-process/blob/main/Embrace_SQL_in_Google%C2%A0Colab_step_by_step_process.ipynb\" target=\"_parent\"><img src=\"https://colab.research.google.com/assets/colab-badge.svg\" alt=\"Open In Colab\"/></a>"
      ]
    },
    {
      "cell_type": "markdown",
      "source": [
        "SQLite is a serverless, self-contained, and zero-configuration database engine that requires no additional installation steps. Python comes with built-in support for SQLite.\n",
        "Let's begin by importing the SQLite3 module and establishing a connection to the database in your Google Colab notebook. We'll use an in-memory database for this example, which is denoted by :memory:.\n",
        "SQLite in-memory databases are stored in memory rather than on a disc."
      ],
      "metadata": {
        "id": "1K-Tx5JL2fB6"
      }
    },
    {
      "cell_type": "code",
      "source": [
        "# Import library\n",
        "import sqlite3\n",
        "\n",
        "# Connect to an SQLite database; use ':memory:' for an in-memory database\n",
        "conn = sqlite3.connect(':memory:')"
      ],
      "metadata": {
        "id": "FRx90QlZR9oo"
      },
      "execution_count": 1,
      "outputs": []
    },
    {
      "cell_type": "markdown",
      "source": [
        "We used the SQLite database library to create a table called \"Students\" with columns for \"name,\" \"age\", and \"weight\"."
      ],
      "metadata": {
        "id": "FHDucmkc2j_N"
      }
    },
    {
      "cell_type": "code",
      "source": [
        "# Execute a SQL command to create a new table\n",
        "c = conn.cursor()\n",
        "c.execute('''\n",
        "          CREATE TABLE Students\n",
        "          (name text, age real, weight real)\n",
        "          ''')"
      ],
      "metadata": {
        "colab": {
          "base_uri": "https://localhost:8080/"
        },
        "id": "Pqvhs-AuSVuw",
        "outputId": "02c8fed3-cf18-4843-d7e4-b6e043721ae3"
      },
      "execution_count": 2,
      "outputs": [
        {
          "output_type": "execute_result",
          "data": {
            "text/plain": [
              "<sqlite3.Cursor at 0x7c19497ca640>"
            ]
          },
          "metadata": {},
          "execution_count": 2
        }
      ]
    },
    {
      "cell_type": "markdown",
      "source": [
        "We can insert data into our students' table using standard SQL INSERT syntax."
      ],
      "metadata": {
        "id": "J9vfw2Ss2o-j"
      }
    },
    {
      "cell_type": "code",
      "source": [
        "# Execute a SQL command to insert data into the table\n",
        "c.execute(\"INSERT INTO Students VALUES ('John',28,70)\")\n",
        "\n",
        "# Commit the transaction to save changes to the database\n",
        "conn.commit()"
      ],
      "metadata": {
        "id": "HQz4DZo7SaxX"
      },
      "execution_count": 3,
      "outputs": []
    },
    {
      "cell_type": "markdown",
      "source": [
        "Now that we have a database, we can query it using SQL. We'll select all records from the students' table and then fetch all results from the execution to print the output."
      ],
      "metadata": {
        "id": "Y51Pb79K2vhF"
      }
    },
    {
      "cell_type": "code",
      "source": [
        "# Execute a SQL SELECT statement to query the database\n",
        "c.execute(\"SELECT * FROM Students\")\n",
        "\n",
        "# Fetch all rows from the result of the query\n",
        "print(c.fetchall())\n"
      ],
      "metadata": {
        "colab": {
          "base_uri": "https://localhost:8080/"
        },
        "id": "4cS554WHSe6c",
        "outputId": "0c808b2b-1f97-4303-e6a3-01ed1ee71ee2"
      },
      "execution_count": 4,
      "outputs": [
        {
          "output_type": "stream",
          "name": "stdout",
          "text": [
            "[('John', 28.0, 70.0)]\n"
          ]
        }
      ]
    },
    {
      "cell_type": "markdown",
      "source": [
        "# Method 2: Using Magic Commands\n",
        "\n",
        "In Method 2, you'll use the \"SQL magic command\" in Google Colab to write SQL queries within the notebook. This method involves installing the ipython-sql extension, loading the SQL extension, and creating a SQLite database. Once you set up the environment, you can write SQL queries using the %sql or %%sql magic commands.\n",
        "Here's a step-by-step guide with code snippets to help you get started:\n",
        "Install the ipython-sql extension by running the following command in a Colab cell:"
      ],
      "metadata": {
        "id": "lxAVSAXF2xV4"
      }
    },
    {
      "cell_type": "code",
      "source": [
        "# Install ipython-sql\n",
        "!pip install ipython-sql\n"
      ],
      "metadata": {
        "colab": {
          "base_uri": "https://localhost:8080/"
        },
        "id": "A2A-Q45kShBw",
        "outputId": "07aec486-9cb7-4ff3-d652-79f1db9b33de"
      },
      "execution_count": 5,
      "outputs": [
        {
          "output_type": "stream",
          "name": "stdout",
          "text": [
            "Requirement already satisfied: ipython-sql in /usr/local/lib/python3.10/dist-packages (0.5.0)\n",
            "Requirement already satisfied: prettytable in /usr/local/lib/python3.10/dist-packages (from ipython-sql) (3.10.2)\n",
            "Requirement already satisfied: ipython in /usr/local/lib/python3.10/dist-packages (from ipython-sql) (7.34.0)\n",
            "Requirement already satisfied: sqlalchemy>=2.0 in /usr/local/lib/python3.10/dist-packages (from ipython-sql) (2.0.31)\n",
            "Requirement already satisfied: sqlparse in /usr/local/lib/python3.10/dist-packages (from ipython-sql) (0.5.1)\n",
            "Requirement already satisfied: six in /usr/local/lib/python3.10/dist-packages (from ipython-sql) (1.16.0)\n",
            "Requirement already satisfied: ipython-genutils in /usr/local/lib/python3.10/dist-packages (from ipython-sql) (0.2.0)\n",
            "Requirement already satisfied: typing-extensions>=4.6.0 in /usr/local/lib/python3.10/dist-packages (from sqlalchemy>=2.0->ipython-sql) (4.12.2)\n",
            "Requirement already satisfied: greenlet!=0.4.17 in /usr/local/lib/python3.10/dist-packages (from sqlalchemy>=2.0->ipython-sql) (3.0.3)\n",
            "Requirement already satisfied: setuptools>=18.5 in /usr/local/lib/python3.10/dist-packages (from ipython->ipython-sql) (71.0.4)\n",
            "Collecting jedi>=0.16 (from ipython->ipython-sql)\n",
            "  Downloading jedi-0.19.1-py2.py3-none-any.whl.metadata (22 kB)\n",
            "Requirement already satisfied: decorator in /usr/local/lib/python3.10/dist-packages (from ipython->ipython-sql) (4.4.2)\n",
            "Requirement already satisfied: pickleshare in /usr/local/lib/python3.10/dist-packages (from ipython->ipython-sql) (0.7.5)\n",
            "Requirement already satisfied: traitlets>=4.2 in /usr/local/lib/python3.10/dist-packages (from ipython->ipython-sql) (5.7.1)\n",
            "Requirement already satisfied: prompt-toolkit!=3.0.0,!=3.0.1,<3.1.0,>=2.0.0 in /usr/local/lib/python3.10/dist-packages (from ipython->ipython-sql) (3.0.47)\n",
            "Requirement already satisfied: pygments in /usr/local/lib/python3.10/dist-packages (from ipython->ipython-sql) (2.16.1)\n",
            "Requirement already satisfied: backcall in /usr/local/lib/python3.10/dist-packages (from ipython->ipython-sql) (0.2.0)\n",
            "Requirement already satisfied: matplotlib-inline in /usr/local/lib/python3.10/dist-packages (from ipython->ipython-sql) (0.1.7)\n",
            "Requirement already satisfied: pexpect>4.3 in /usr/local/lib/python3.10/dist-packages (from ipython->ipython-sql) (4.9.0)\n",
            "Requirement already satisfied: wcwidth in /usr/local/lib/python3.10/dist-packages (from prettytable->ipython-sql) (0.2.13)\n",
            "Requirement already satisfied: parso<0.9.0,>=0.8.3 in /usr/local/lib/python3.10/dist-packages (from jedi>=0.16->ipython->ipython-sql) (0.8.4)\n",
            "Requirement already satisfied: ptyprocess>=0.5 in /usr/local/lib/python3.10/dist-packages (from pexpect>4.3->ipython->ipython-sql) (0.7.0)\n",
            "Downloading jedi-0.19.1-py2.py3-none-any.whl (1.6 MB)\n",
            "\u001b[2K   \u001b[90m━━━━━━━━━━━━━━━━━━━━━━━━━━━━━━━━━━━━━━━━\u001b[0m \u001b[32m1.6/1.6 MB\u001b[0m \u001b[31m21.9 MB/s\u001b[0m eta \u001b[36m0:00:00\u001b[0m\n",
            "\u001b[?25hInstalling collected packages: jedi\n",
            "Successfully installed jedi-0.19.1\n"
          ]
        }
      ]
    },
    {
      "cell_type": "markdown",
      "source": [
        "Load the SQL extension and create a SQLite database:"
      ],
      "metadata": {
        "id": "ZvSOVUKz28CC"
      }
    },
    {
      "cell_type": "code",
      "source": [
        "# Load the SQL extension\n",
        "%load_ext sql\n",
        "\n",
        "# Create a SQLite database\n",
        "%sql sqlite://\n"
      ],
      "metadata": {
        "id": "2SNzOf1vSqFf"
      },
      "execution_count": 6,
      "outputs": []
    },
    {
      "cell_type": "markdown",
      "source": [
        "Now, you can write SQL queries using the %sql or %%sql magic commands. The %sql command is for single-line SQL queries, while the %%sql command is for multi-line SQL queries that run the entire cell as SQL.\n",
        "Here's an example of executing SQL commands to create a table, insert data, and run a query using the %%sql command:"
      ],
      "metadata": {
        "id": "JXY_QSLe3Asy"
      }
    },
    {
      "cell_type": "code",
      "source": [
        "# Execute SQL commands to create a table, insert data, and run a query\n",
        "%%sql\n",
        "CREATE TABLE test_table(name, age);\n",
        "INSERT INTO test_table VALUES('Alice', 24);\n",
        "SELECT * FROM test_table;\n"
      ],
      "metadata": {
        "colab": {
          "base_uri": "https://localhost:8080/",
          "height": 131
        },
        "id": "oq1KnP39StSa",
        "outputId": "d8ce3f68-fe84-42e4-bde6-0d1bc9bb7d48"
      },
      "execution_count": 7,
      "outputs": [
        {
          "output_type": "stream",
          "name": "stdout",
          "text": [
            " * sqlite://\n",
            "Done.\n",
            "1 rows affected.\n",
            "Done.\n"
          ]
        },
        {
          "output_type": "execute_result",
          "data": {
            "text/plain": [
              "[('Alice', 24)]"
            ],
            "text/html": [
              "<table>\n",
              "    <thead>\n",
              "        <tr>\n",
              "            <th>name</th>\n",
              "            <th>age</th>\n",
              "        </tr>\n",
              "    </thead>\n",
              "    <tbody>\n",
              "        <tr>\n",
              "            <td>Alice</td>\n",
              "            <td>24</td>\n",
              "        </tr>\n",
              "    </tbody>\n",
              "</table>"
            ]
          },
          "metadata": {},
          "execution_count": 7
        }
      ]
    },
    {
      "cell_type": "markdown",
      "source": [
        "This method is a convenient way to work with SQL in Google Colab without having to manage a separate database installation. You can use this approach to write SQL queries and analyze data in your data analysis projects within Google Colab."
      ],
      "metadata": {
        "id": "mfkiGzHW3MTT"
      }
    }
  ]
}